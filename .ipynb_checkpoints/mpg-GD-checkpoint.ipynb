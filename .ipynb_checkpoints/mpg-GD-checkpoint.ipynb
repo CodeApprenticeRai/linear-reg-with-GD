{
 "cells": [
  {
   "cell_type": "code",
   "execution_count": 1,
   "metadata": {
    "scrolled": true
   },
   "outputs": [
    {
     "name": "stdout",
     "output_type": "stream",
     "text": [
      "(398,)\n",
      "(398,)\n"
     ]
    }
   ],
   "source": [
    "#Gradient Descent for finding relationships between MPG and related stats in old cars \n",
    "\n",
    "#Dependencies\n",
    "import pandas as pd\n",
    "import numpy as np\n",
    "import matplotlib.pyplot as plt\n",
    "\n",
    "#Get Data: (n,1) ndarray\n",
    "mpg = np.genfromtxt('mpg.txt',usecols = (0))\n",
    "acc = np.genfromtxt('mpg.txt',usecols = (5))\n",
    "\n",
    "print(mpg.shape)\n",
    "print(acc.shape)"
   ]
  },
  {
   "cell_type": "code",
   "execution_count": 2,
   "metadata": {},
   "outputs": [],
   "source": [
    "#Error Math\n",
    "def error(w0, w1, x, y):\n",
    "\ter = 0\n",
    "\tfor i in range(len(mpg)):\n",
    "\t\ter += abs(y[i] - (w0 + w1 * x[i]))\n",
    "\treturn er/len(mpg)\n",
    "\n",
    "\n"
   ]
  },
  {
   "cell_type": "code",
   "execution_count": null,
   "metadata": {},
   "outputs": [],
   "source": [
    "np.random.seed(0)\n",
    "sw0 = 0.0\n",
    "while abs(sw0) < 2000:\n",
    "    sw0 = 300 * (2 * np.random.random((1,)) - 1)\n",
    "w0 = np.asscalar(sw0)\n",
    "\n",
    "sw1 = 0.0\n",
    "while abs(sw1) < 2000:\n",
    "    sw1 = 300 * (2 * np.random.random((1,)) - 1)\n",
    "w1 = np.asscalar(sw1)\n",
    "\n",
    "y = mpg\n",
    "\n",
    "starting_error = error(w0,w1, acc, y)\n",
    "\n"
   ]
  },
  {
   "cell_type": "code",
   "execution_count": null,
   "metadata": {},
   "outputs": [],
   "source": [
    "#Gradient Descent\n",
    "lr = .01\n",
    "m = len(mpg)\n",
    "\n",
    "\n",
    "\n",
    "for i in range(1000):\n",
    "    #if (i == 1) or (i % 50 == 0):\n",
    "    #print('Error:')\n",
    "    #print(error(w0,w1, acc, y))\n",
    "    #print('\\nWeights:')\n",
    "    #print(w0, w1)\n",
    "    #print(w0.shape)\n",
    "    for j in range(len(acc)):\n",
    "        if (j in (1,2,3,4,5,6,7,8,9,10)):\n",
    "            print('Error:')\n",
    "            print(error(w0,w1, acc, y))\n",
    "            print('Weights:')\n",
    "            print(w0, w1)\n",
    "        nc_w0 = w0\n",
    "        nc_w1 = w1\n",
    "        w0 += (m**-1) * (nc_w0 - lr * (-1 * ( y[j] - (nc_w1 * acc[j] + nc_w0))))\n",
    "        w1 += (m**-1) * (nc_w1 - lr * (-acc[j] * ( y[j] - (nc_w1 * acc[j] + nc_w0))))"
   ]
  },
  {
   "cell_type": "code",
   "execution_count": null,
   "metadata": {},
   "outputs": [],
   "source": [
    "print('Final Values')\n",
    "print('Starting Error:')\n",
    "print(starting_error)\n",
    "print('Error after Gradient Descent:')\n",
    "print(error(w0,w1, acc, y))\n",
    "\n",
    "print('\\nStarting Weights:')\n",
    "print(sw0, sw1)\n",
    "print('Weights after Gradient Descent:')\n",
    "print(w0, w1)"
   ]
  },
  {
   "cell_type": "code",
   "execution_count": 16,
   "metadata": {
    "scrolled": true
   },
   "outputs": [
    {
     "data": {
      "image/png": "[encoded data removed]",
      "text/plain": [
       "<matplotlib.figure.Figure at 0x715ad70>"
      ]
     },
     "metadata": {},
     "output_type": "display_data"
    }
   ],
   "source": [
    "#Output\n",
    "\n",
    "xplt = acc\n",
    "yplt = w0 + xplt *w1\n",
    "\n",
    "plt.scatter(xplt, y)\n",
    "plt.plot(xplt, yplt)\n",
    "plt.show()\n"
   ]
  },
  {
   "cell_type": "code",
   "execution_count": 61,
   "metadata": {},
   "outputs": [
    {
     "name": "stdout",
     "output_type": "stream",
     "text": [
      "0.0976270078546\n",
      "0.0979043064377\n",
      "0.000277994616428\n",
      "(0.43037873274483895, 18.0)\n"
     ]
    }
   ],
   "source": [
    "w0 = np.asscalar(sw0)\n",
    "w1 = np.asscalar(sw1)\n",
    "print(w0)\n",
    "w0 += (m**-1) * (w0 - .001 * (-1 * ( y[0] - (w1 * acc[0] + w0))))\n",
    "print(w0)\n",
    "print((m**-1) * (w0 - .001 * (-1 * ( y[0] - (w1 * acc[0] + w0)))))\n",
    "print(w1, y[0])"
   ]
  },
  {
   "cell_type": "code",
   "execution_count": null,
   "metadata": {
    "collapsed": true
   },
   "outputs": [],
   "source": []
  }
 ],
 "metadata": {
  "kernelspec": {
   "display_name": "Python 2",
   "language": "python",
   "name": "python2"
  },
  "language_info": {
   "codemirror_mode": {
    "name": "ipython",
    "version": 2
   },
   "file_extension": ".py",
   "mimetype": "text/x-python",
   "name": "python",
   "nbconvert_exporter": "python",
   "pygments_lexer": "ipython2",
   "version": "2.7.11"
  }
 },
 "nbformat": 4,
 "nbformat_minor": 2
}
