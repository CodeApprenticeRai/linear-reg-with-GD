{
 "cells": [
  {
   "cell_type": "code",
   "execution_count": 2,
   "metadata": {
    "scrolled": true
   },
   "outputs": [
    {
     "name": "stdout",
     "output_type": "stream",
     "text": [
      "(398,)\n",
      "(398,)\n"
     ]
    }
   ],
   "source": [
    "#Gradient Descent for finding relationships between MPG and related stats in old cars \n",
    "#Things I've learned:\n",
    "#Keep weights and learning rate small\n",
    "#\n",
    "\n",
    "#Dependencies\n",
    "from __future__ import division\n",
    "import pandas as pd\n",
    "import numpy as np\n",
    "import matplotlib.pyplot as plt\n",
    "\n",
    "#Get Data: (n,1) ndarray\n",
    "mpg = np.genfromtxt('mpg.txt',usecols = (0))\n",
    "acc = np.genfromtxt('mpg.txt',usecols = (5))\n",
    "\n",
    "def mn(itera):\n",
    "    l = itera\n",
    "    s = max(l) - min(l)\n",
    "    av = sum(l)/ len(l)\n",
    "    return((l - av)/ s)\n",
    "\n",
    "mpg_mn = mn(mpg)\n",
    "acc_mn = mn(acc)\n",
    "\n",
    "print(mpg.shape)\n",
    "print(acc.shape)"
   ]
  },
  {
   "cell_type": "code",
   "execution_count": 3,
   "metadata": {
    "collapsed": true
   },
   "outputs": [],
   "source": [
    "#Error Math\n",
    "def error(w0, w1, x, y):\n",
    "\ter = 0\n",
    "\tfor i in range(len(mpg)):\n",
    "\t\ter += abs(y[i] - (w0 + w1 * x[i]))\n",
    "\treturn er/len(mpg)\n",
    "\n",
    "\n"
   ]
  },
  {
   "cell_type": "code",
   "execution_count": 4,
   "metadata": {},
   "outputs": [
    {
     "name": "stdout",
     "output_type": "stream",
     "text": [
      "Error:\n",
      "16.7167708164\n",
      "Weights:\n",
      "(0.0976270078546495, 0.43037873274483895)\n",
      "Derivatives\n",
      "(-6653.2747849135576, -105875.81164729757)\n",
      "Error:\n",
      "12.5646457104\n",
      "Weights:\n",
      "(0.11458907266059978, 0.69747971359921679)\n",
      "Derivatives\n",
      "(-4991.5394956489736, -79199.355174600787)\n",
      "Error:\n",
      "9.57731699147\n",
      "Weights:\n",
      "(0.12741854142519671, 0.89822552990122684)\n",
      "Derivatives\n",
      "(-3742.5922146917783, -59149.554272349276)\n",
      "Error:\n",
      "7.67644574123\n",
      "Weights:\n",
      "(0.13714218654106849, 1.0490993484998463)\n",
      "Derivatives\n",
      "(-2803.8929365167564, -44080.292122579529)\n",
      "Error:\n",
      "6.67609279038\n",
      "Weights:\n",
      "(0.1445317220261384, 1.1624897793317039)\n",
      "Derivatives\n",
      "(-2098.3734529164249, -32754.361130061734)\n",
      "Error:\n",
      "6.1590096415\n",
      "Weights:\n",
      "(0.15016716216418505, 1.247707997697014)\n",
      "Derivatives\n",
      "(-1568.1099449281849, -24241.88644205685)\n",
      "Error:\n",
      "5.91716560814\n",
      "Weights:\n",
      "(0.1544844413277337, 1.311752204832074)\n",
      "Derivatives\n",
      "(-1169.5673559915483, -17843.981917637746)\n",
      "Error:\n",
      "5.79651471164\n",
      "Weights:\n",
      "(0.15781120463758114, 1.3598821900644102)\n",
      "Derivatives\n",
      "(-870.02510269615004, -13035.37059448921)\n",
      "Error:\n",
      "5.74026230382\n",
      "Weights:\n",
      "(0.16039370792233926, 1.3960511669100224)\n",
      "Derivatives\n",
      "(-644.89066895571943, -9421.2587129682342)\n",
      "Error:\n",
      "5.72308837779\n",
      "Weights:\n",
      "(0.16241703550243489, 1.4232303374624804)\n",
      "Derivatives\n",
      "(-475.68052591875585, -6704.9225942634575)\n",
      "Error:\n",
      "5.72784936285\n",
      "Weights:\n",
      "(0.16402029570701074, 1.443652832265812)\n",
      "Derivatives\n",
      "(-348.50260830641179, -4663.3472098524162)\n",
      "Error:\n",
      "5.73815041317\n",
      "Weights:\n",
      "(0.1653080416969942, 1.4589970534771644)\n",
      "Derivatives\n",
      "(-252.9157563547376, -3128.9163346124565)\n",
      "Error:\n",
      "5.75113899052\n",
      "Weights:\n",
      "(0.16635885525993824, 1.4705244740502539)\n",
      "Derivatives\n",
      "(-181.07248194376584, -1975.6510194544132)\n",
      "Error:\n",
      "5.76316412512\n",
      "Weights:\n",
      "(0.16723179831823901, 1.4791832064459942)\n",
      "Derivatives\n",
      "(-127.07467880931631, -1108.8665427651963)\n",
      "Error:\n",
      "5.77308739711\n",
      "Weights:\n",
      "(0.16797126182860975, 1.4856858440068264)\n",
      "Derivatives\n",
      "(-86.489379741517581, -457.39866185358187)\n",
      "Error:\n",
      "5.81031613824\n",
      "Weights:\n",
      "(0.20117082092524302, 1.5034317124370653)\n",
      "Derivatives\n",
      "(36.679220159546844, 1513.678232850219)\n",
      "Error:\n",
      "5.8103050743\n",
      "Weights:\n",
      "(0.24801657563875978, 1.5005135939336225)\n",
      "Derivatives\n",
      "(37.242876476345572, 1513.6431215806269)\n",
      "Error:\n",
      "5.81029089736\n",
      "Weights:\n",
      "(0.30804306310202928, 1.4967744204511977)\n",
      "Derivatives\n",
      "(37.965125672273771, 1513.5981311912994)\n",
      "Error:\n",
      "5.81027273153\n",
      "Weights:\n",
      "(0.38495887370675064, 1.4919831762597338)\n",
      "Derivatives\n",
      "(38.890590158225685, 1513.5404821031711)\n",
      "Error:\n",
      "5.81024975839\n",
      "Weights:\n",
      "(0.48351606355733795, 1.4858438460012855)\n",
      "Derivatives\n",
      "(40.076447504385357, 1513.4666126077398)\n",
      "Error:\n",
      "5.81023758624\n",
      "Weights:\n",
      "(0.60980374868833853, 1.4779771261022143)\n",
      "Derivatives\n",
      "(41.595963019888956, 1513.371958857967)\n",
      "Error:\n",
      "5.81022198928\n",
      "Weights:\n",
      "(0.77162430627449674, 1.467896990425317)\n",
      "Derivatives\n",
      "(43.543016271556453, 1513.250672902481)\n",
      "Error:\n",
      "5.81057286513\n",
      "Weights:\n",
      "(0.97897542550937544, 1.4549806623281818)\n",
      "Derivatives\n",
      "(46.037901204378912, 1513.0952613836932)\n",
      "Error:\n",
      "5.81113654947\n",
      "Weights:\n",
      "(1.244667790492517, 1.4384301379245081)\n",
      "Derivatives\n",
      "(49.234758210067156, 1512.8961225793785)\n"
     ]
    }
   ],
   "source": [
    "np.random.seed(0)\n",
    "# sw0 = 0.0\n",
    "# while abs(sw0) < 50:\n",
    "sw0 = 1* (2 * np.random.random((1,)) - 1)\n",
    "w0 = np.asscalar(sw0)\n",
    "\n",
    "# sw1 = 0.0\n",
    "# while abs(sw1) < 50:\n",
    "sw1 = 1* (2 * np.random.random((1,)) - 1)\n",
    "w1 = np.asscalar(sw1)\n",
    "\n",
    "y = mpg\n",
    "\n",
    "starting_error = error(w0,w1, acc, y)\n",
    "\n",
    "\n",
    "\n",
    "#Gradient Descent\n",
    "lr = .001\n",
    "m = len(mpg)\n",
    "\n",
    "\n",
    "\n",
    "for i in range(1000):\n",
    "    d0 = 0\n",
    "    d1 = 0\n",
    "    #if (i == 1) or (i % 50 == 0):\n",
    "    #print('Error:')\n",
    "    #print(error(w0,w1, acc, y))\n",
    "    #print('\\nWeights:')\n",
    "    #print(w0, w1)\n",
    "    #print(w0.shape)\n",
    "    if (i in range(0,15) ) or (i % 100 == 0 ):\n",
    "        print('Error:')\n",
    "        print(error(w0,w1, acc, y))\n",
    "        print('Weights:')\n",
    "        print(w0, w1)\n",
    "        print('Derivatives')\n",
    "    for j in range(len(acc)):\n",
    "        d0 += (- ( y[j] - (w1 * acc[j] + w0)))\n",
    "        d1 += (-acc[j] * ( y[j] - (w1 * acc[j] + w0)))\n",
    "    if (i in range(0,15) ) or (i % 100 == 0 ):\n",
    "        print(d0,d1)\n",
    "    w0 +=  (w0 - lr * d0) * (m**-1) \n",
    "    w1 +=  (w1 - lr * d1) * (m**-1) "
   ]
  },
  {
   "cell_type": "code",
   "execution_count": null,
   "metadata": {
    "collapsed": true
   },
   "outputs": [],
   "source": []
  },
  {
   "cell_type": "code",
   "execution_count": 5,
   "metadata": {},
   "outputs": [
    {
     "name": "stdout",
     "output_type": "stream",
     "text": [
      "Final Values\n",
      "Starting Error:\n",
      "16.7167708164\n",
      "Error after Gradient Descent:\n",
      "5.81237169331\n",
      "\n",
      "Starting Weights:\n",
      "(array([ 0.09762701]), array([ 0.43037873]))\n",
      "Weights after Gradient Descent:\n",
      "(1.585116557158543, 1.4172228833567517)\n"
     ]
    }
   ],
   "source": [
    "print('Final Values')\n",
    "print('Starting Error:')\n",
    "print(starting_error)\n",
    "print('Error after Gradient Descent:')\n",
    "print(error(w0,w1, acc, y))\n",
    "\n",
    "print('\\nStarting Weights:')\n",
    "print(sw0, sw1)\n",
    "print('Weights after Gradient Descent:')\n",
    "print(w0, w1)"
   ]
  },
  {
   "cell_type": "code",
   "execution_count": 6,
   "metadata": {
    "scrolled": false
   },
   "outputs": [
    {
     "data": {
      "image/png": "[encoded data removed]",
      "text/plain": [
       "<matplotlib.figure.Figure at 0x747d650>"
      ]
     },
     "metadata": {},
     "output_type": "display_data"
    }
   ],
   "source": [
    "#Output\n",
    "\n",
    "xplt = acc\n",
    "yplt = w0 + xplt *w1\n",
    "\n",
    "plt.scatter(xplt, y)\n",
    "plt.plot(xplt, yplt)\n",
    "#plt.axis([min(acc) - 5,max(acc)+ 5,min(yplt) - 10,max(yplt) + 10])\n",
    "plt.show()\n"
   ]
  },
  {
   "cell_type": "code",
   "execution_count": null,
   "metadata": {
    "collapsed": true
   },
   "outputs": [],
   "source": []
  },
  {
   "cell_type": "code",
   "execution_count": 61,
   "metadata": {},
   "outputs": [
    {
     "name": "stdout",
     "output_type": "stream",
     "text": [
      "0.0976270078546\n",
      "0.0979043064377\n",
      "0.000277994616428\n",
      "(0.43037873274483895, 18.0)\n"
     ]
    }
   ],
   "source": [
    "w0 = np.asscalar(sw0)\n",
    "w1 = np.asscalar(sw1)\n",
    "print(w0)\n",
    "w0 += (m**-1) * (w0 - .001 * (-1 * ( y[0] - (w1 * acc[0] + w0))))\n",
    "print(w0)\n",
    "print((m**-1) * (w0 - .001 * (-1 * ( y[0] - (w1 * acc[0] + w0)))))\n",
    "print(w1, y[0])"
   ]
  },
  {
   "cell_type": "code",
   "execution_count": 43,
   "metadata": {},
   "outputs": [
    {
     "ename": "ImportError",
     "evalue": "cannot import name __check_build",
     "output_type": "error",
     "traceback": [
      "\u001b[1;31m---------------------------------------------------------------------------\u001b[0m",
      "\u001b[1;31mImportError\u001b[0m                               Traceback (most recent call last)",
      "\u001b[1;32m<ipython-input-43-b179bd7e4a6d>\u001b[0m in \u001b[0;36m<module>\u001b[1;34m()\u001b[0m\n\u001b[1;32m----> 1\u001b[1;33m \u001b[1;32mfrom\u001b[0m \u001b[0msklearn\u001b[0m \u001b[1;32mimport\u001b[0m \u001b[0mlinear_model\u001b[0m\u001b[1;33m\u001b[0m\u001b[0m\n\u001b[0m\u001b[0;32m      2\u001b[0m \u001b[1;33m\u001b[0m\u001b[0m\n\u001b[0;32m      3\u001b[0m \u001b[0mregr\u001b[0m \u001b[1;33m=\u001b[0m \u001b[0mlinear_model\u001b[0m\u001b[1;33m.\u001b[0m\u001b[0mLinearRegression\u001b[0m\u001b[1;33m(\u001b[0m\u001b[1;33m)\u001b[0m\u001b[1;33m\u001b[0m\u001b[0m\n\u001b[0;32m      4\u001b[0m \u001b[0mregr\u001b[0m\u001b[1;33m.\u001b[0m\u001b[0mfit\u001b[0m\u001b[1;33m(\u001b[0m\u001b[0mmpg\u001b[0m\u001b[1;33m,\u001b[0m \u001b[0macc\u001b[0m\u001b[1;33m)\u001b[0m\u001b[1;33m\u001b[0m\u001b[0m\n\u001b[0;32m      5\u001b[0m \u001b[1;32mprint\u001b[0m\u001b[1;33m(\u001b[0m\u001b[0mregr\u001b[0m\u001b[1;33m.\u001b[0m\u001b[0mcoef_\u001b[0m\u001b[1;33m)\u001b[0m\u001b[1;33m\u001b[0m\u001b[0m\n",
      "\u001b[1;32mc:\\python27\\lib\\site-packages\\sklearn\\__init__.py\u001b[0m in \u001b[0;36m<module>\u001b[1;34m()\u001b[0m\n\u001b[0;32m     54\u001b[0m     \u001b[1;31m# process, as it may not be compiled yet\u001b[0m\u001b[1;33m\u001b[0m\u001b[1;33m\u001b[0m\u001b[0m\n\u001b[0;32m     55\u001b[0m \u001b[1;32melse\u001b[0m\u001b[1;33m:\u001b[0m\u001b[1;33m\u001b[0m\u001b[0m\n\u001b[1;32m---> 56\u001b[1;33m     \u001b[1;32mfrom\u001b[0m \u001b[1;33m.\u001b[0m \u001b[1;32mimport\u001b[0m \u001b[0m__check_build\u001b[0m\u001b[1;33m\u001b[0m\u001b[0m\n\u001b[0m\u001b[0;32m     57\u001b[0m     \u001b[1;32mfrom\u001b[0m \u001b[1;33m.\u001b[0m\u001b[0mbase\u001b[0m \u001b[1;32mimport\u001b[0m \u001b[0mclone\u001b[0m\u001b[1;33m\u001b[0m\u001b[0m\n\u001b[0;32m     58\u001b[0m     \u001b[0m__check_build\u001b[0m  \u001b[1;31m# avoid flakes unused variable error\u001b[0m\u001b[1;33m\u001b[0m\u001b[0m\n",
      "\u001b[1;31mImportError\u001b[0m: cannot import name __check_build"
     ]
    }
   ],
   "source": []
  },
  {
   "cell_type": "code",
   "execution_count": null,
   "metadata": {
    "collapsed": true
   },
   "outputs": [],
   "source": [
    "from sklearn import linear_model\n",
    "\n",
    "regr = linear_model.LinearRegression()\n",
    "regr.fit(mpg, acc)\n",
    "print(regr.coef_)\n",
    "\n",
    "plt.scatter(mpg, acc)\n",
    "plt.plot(mpg, regr.predict(mpg))"
   ]
  }
 ],
 "metadata": {
  "kernelspec": {
   "display_name": "Python 2",
   "language": "python",
   "name": "python2"
  },
  "language_info": {
   "codemirror_mode": {
    "name": "ipython",
    "version": 2
   },
   "file_extension": ".py",
   "mimetype": "text/x-python",
   "name": "python",
   "nbconvert_exporter": "python",
   "pygments_lexer": "ipython2",
   "version": "2.7.11"
  }
 },
 "nbformat": 4,
 "nbformat_minor": 2
}
